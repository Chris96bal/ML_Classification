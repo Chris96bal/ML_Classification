{
 "cells": [
  {
   "cell_type": "markdown",
   "id": "ccc4ee74",
   "metadata": {},
   "source": [
    "# **Overview:**\n",
    "In this section, we will start by performing different Classification models to create a baseline. Then we will proceed by performing Hyperparameter Tuning and employing Ensemble methods and try creating a higher accuracy model."
   ]
  },
  {
   "cell_type": "markdown",
   "id": "d182cf67",
   "metadata": {},
   "source": [
    "### **Importing:**\n",
    "Firstly, importing all necessary libraries is performed for us us to be able to plot graphs, process dataframes, build classification models and metrics for their evaluation."
   ]
  },
  {
   "cell_type": "code",
   "execution_count": 1,
   "id": "b0715ed8",
   "metadata": {},
   "outputs": [],
   "source": [
    "import pandas as pd\n",
    "import numpy as np\n",
    "import seaborn as sns\n",
    "import matplotlib as mpl\n",
    "import matplotlib.pyplot as plt\n",
    "\n",
    "from sklearn.metrics import confusion_matrix\n",
    "from sklearn.metrics import accuracy_score\n",
    "from sklearn.preprocessing import StandardScaler\n",
    "from sklearn.model_selection import train_test_split\n",
    "from sklearn.metrics import mean_squared_error\n",
    "from sklearn import metrics\n",
    "from sklearn.multiclass import OneVsRestClassifier\n",
    "from sklearn.tree import DecisionTreeClassifier\n",
    "from sklearn.linear_model import LogisticRegression\n",
    "from sklearn.svm import SVC\n",
    "from sklearn.svm import LinearSVC\n",
    "from sklearn.ensemble import RandomForestClassifier\n",
    "from sklearn.neighbors import KNeighborsClassifier\n",
    "from sklearn.neural_network import MLPClassifier\n",
    "from sklearn.ensemble import VotingClassifier\n",
    "from sklearn.ensemble import BaggingClassifier\n",
    "from sklearn.model_selection import RepeatedStratifiedKFold\n",
    "from sklearn.model_selection import StratifiedKFold, GridSearchCV, RandomizedSearchCV, cross_val_score\n",
    "from sklearn.naive_bayes import GaussianNB\n",
    "import warnings\n",
    "warnings.filterwarnings(\"ignore\")"
   ]
  },
  {
   "cell_type": "code",
   "execution_count": 2,
   "id": "94d443ca",
   "metadata": {},
   "outputs": [
    {
     "data": {
      "text/html": [
       "<div>\n",
       "<style scoped>\n",
       "    .dataframe tbody tr th:only-of-type {\n",
       "        vertical-align: middle;\n",
       "    }\n",
       "\n",
       "    .dataframe tbody tr th {\n",
       "        vertical-align: top;\n",
       "    }\n",
       "\n",
       "    .dataframe thead th {\n",
       "        text-align: right;\n",
       "    }\n",
       "</style>\n",
       "<table border=\"1\" class=\"dataframe\">\n",
       "  <thead>\n",
       "    <tr style=\"text-align: right;\">\n",
       "      <th></th>\n",
       "      <th>Id</th>\n",
       "      <th>title</th>\n",
       "      <th>artist</th>\n",
       "      <th>year</th>\n",
       "      <th>bpm</th>\n",
       "      <th>nrgy</th>\n",
       "      <th>dnce</th>\n",
       "      <th>dB</th>\n",
       "      <th>live</th>\n",
       "      <th>val</th>\n",
       "      <th>dur</th>\n",
       "      <th>acous</th>\n",
       "      <th>spch</th>\n",
       "      <th>pop</th>\n",
       "      <th>top genre</th>\n",
       "    </tr>\n",
       "  </thead>\n",
       "  <tbody>\n",
       "    <tr>\n",
       "      <th>0</th>\n",
       "      <td>1</td>\n",
       "      <td>My Happiness</td>\n",
       "      <td>Connie Francis</td>\n",
       "      <td>1996</td>\n",
       "      <td>107</td>\n",
       "      <td>31</td>\n",
       "      <td>45</td>\n",
       "      <td>-8</td>\n",
       "      <td>13</td>\n",
       "      <td>28</td>\n",
       "      <td>150</td>\n",
       "      <td>75</td>\n",
       "      <td>3</td>\n",
       "      <td>44</td>\n",
       "      <td>adult standards</td>\n",
       "    </tr>\n",
       "    <tr>\n",
       "      <th>1</th>\n",
       "      <td>2</td>\n",
       "      <td>Unchained Melody</td>\n",
       "      <td>The Teddy Bears</td>\n",
       "      <td>2011</td>\n",
       "      <td>114</td>\n",
       "      <td>44</td>\n",
       "      <td>53</td>\n",
       "      <td>-8</td>\n",
       "      <td>13</td>\n",
       "      <td>47</td>\n",
       "      <td>139</td>\n",
       "      <td>49</td>\n",
       "      <td>3</td>\n",
       "      <td>37</td>\n",
       "      <td>NaN</td>\n",
       "    </tr>\n",
       "    <tr>\n",
       "      <th>2</th>\n",
       "      <td>3</td>\n",
       "      <td>How Deep Is Your Love</td>\n",
       "      <td>Bee Gees</td>\n",
       "      <td>1979</td>\n",
       "      <td>105</td>\n",
       "      <td>36</td>\n",
       "      <td>63</td>\n",
       "      <td>-9</td>\n",
       "      <td>13</td>\n",
       "      <td>67</td>\n",
       "      <td>245</td>\n",
       "      <td>11</td>\n",
       "      <td>3</td>\n",
       "      <td>77</td>\n",
       "      <td>adult standards</td>\n",
       "    </tr>\n",
       "    <tr>\n",
       "      <th>3</th>\n",
       "      <td>4</td>\n",
       "      <td>Woman in Love</td>\n",
       "      <td>Barbra Streisand</td>\n",
       "      <td>1980</td>\n",
       "      <td>170</td>\n",
       "      <td>28</td>\n",
       "      <td>47</td>\n",
       "      <td>-16</td>\n",
       "      <td>13</td>\n",
       "      <td>33</td>\n",
       "      <td>232</td>\n",
       "      <td>25</td>\n",
       "      <td>3</td>\n",
       "      <td>67</td>\n",
       "      <td>adult standards</td>\n",
       "    </tr>\n",
       "    <tr>\n",
       "      <th>4</th>\n",
       "      <td>5</td>\n",
       "      <td>Goodbye Yellow Brick Road - Remastered 2014</td>\n",
       "      <td>Elton John</td>\n",
       "      <td>1973</td>\n",
       "      <td>121</td>\n",
       "      <td>47</td>\n",
       "      <td>56</td>\n",
       "      <td>-8</td>\n",
       "      <td>15</td>\n",
       "      <td>40</td>\n",
       "      <td>193</td>\n",
       "      <td>45</td>\n",
       "      <td>3</td>\n",
       "      <td>63</td>\n",
       "      <td>glam rock</td>\n",
       "    </tr>\n",
       "    <tr>\n",
       "      <th>...</th>\n",
       "      <td>...</td>\n",
       "      <td>...</td>\n",
       "      <td>...</td>\n",
       "      <td>...</td>\n",
       "      <td>...</td>\n",
       "      <td>...</td>\n",
       "      <td>...</td>\n",
       "      <td>...</td>\n",
       "      <td>...</td>\n",
       "      <td>...</td>\n",
       "      <td>...</td>\n",
       "      <td>...</td>\n",
       "      <td>...</td>\n",
       "      <td>...</td>\n",
       "      <td>...</td>\n",
       "    </tr>\n",
       "    <tr>\n",
       "      <th>448</th>\n",
       "      <td>449</td>\n",
       "      <td>But Not For Me</td>\n",
       "      <td>Ella Fitzgerald</td>\n",
       "      <td>1959</td>\n",
       "      <td>80</td>\n",
       "      <td>22</td>\n",
       "      <td>18</td>\n",
       "      <td>-17</td>\n",
       "      <td>10</td>\n",
       "      <td>16</td>\n",
       "      <td>214</td>\n",
       "      <td>92</td>\n",
       "      <td>4</td>\n",
       "      <td>45</td>\n",
       "      <td>adult standards</td>\n",
       "    </tr>\n",
       "    <tr>\n",
       "      <th>449</th>\n",
       "      <td>450</td>\n",
       "      <td>Surf City</td>\n",
       "      <td>Jan &amp; Dean</td>\n",
       "      <td>2010</td>\n",
       "      <td>148</td>\n",
       "      <td>81</td>\n",
       "      <td>53</td>\n",
       "      <td>-13</td>\n",
       "      <td>23</td>\n",
       "      <td>96</td>\n",
       "      <td>147</td>\n",
       "      <td>50</td>\n",
       "      <td>3</td>\n",
       "      <td>50</td>\n",
       "      <td>brill building pop</td>\n",
       "    </tr>\n",
       "    <tr>\n",
       "      <th>450</th>\n",
       "      <td>451</td>\n",
       "      <td>Dilemma</td>\n",
       "      <td>Nelly</td>\n",
       "      <td>2002</td>\n",
       "      <td>168</td>\n",
       "      <td>55</td>\n",
       "      <td>73</td>\n",
       "      <td>-8</td>\n",
       "      <td>20</td>\n",
       "      <td>61</td>\n",
       "      <td>289</td>\n",
       "      <td>23</td>\n",
       "      <td>14</td>\n",
       "      <td>77</td>\n",
       "      <td>dance pop</td>\n",
       "    </tr>\n",
       "    <tr>\n",
       "      <th>451</th>\n",
       "      <td>452</td>\n",
       "      <td>It's Gonna Be Me</td>\n",
       "      <td>*NSYNC</td>\n",
       "      <td>2000</td>\n",
       "      <td>165</td>\n",
       "      <td>87</td>\n",
       "      <td>64</td>\n",
       "      <td>-5</td>\n",
       "      <td>6</td>\n",
       "      <td>88</td>\n",
       "      <td>191</td>\n",
       "      <td>5</td>\n",
       "      <td>8</td>\n",
       "      <td>62</td>\n",
       "      <td>boy band</td>\n",
       "    </tr>\n",
       "    <tr>\n",
       "      <th>452</th>\n",
       "      <td>453</td>\n",
       "      <td>In The Army Now</td>\n",
       "      <td>Status Quo</td>\n",
       "      <td>2002</td>\n",
       "      <td>105</td>\n",
       "      <td>73</td>\n",
       "      <td>68</td>\n",
       "      <td>-8</td>\n",
       "      <td>14</td>\n",
       "      <td>94</td>\n",
       "      <td>281</td>\n",
       "      <td>11</td>\n",
       "      <td>2</td>\n",
       "      <td>59</td>\n",
       "      <td>album rock</td>\n",
       "    </tr>\n",
       "  </tbody>\n",
       "</table>\n",
       "<p>453 rows × 15 columns</p>\n",
       "</div>"
      ],
      "text/plain": [
       "      Id                                        title            artist  year  \\\n",
       "0      1                                 My Happiness    Connie Francis  1996   \n",
       "1      2                             Unchained Melody   The Teddy Bears  2011   \n",
       "2      3                        How Deep Is Your Love          Bee Gees  1979   \n",
       "3      4                                Woman in Love  Barbra Streisand  1980   \n",
       "4      5  Goodbye Yellow Brick Road - Remastered 2014        Elton John  1973   \n",
       "..   ...                                          ...               ...   ...   \n",
       "448  449                               But Not For Me   Ella Fitzgerald  1959   \n",
       "449  450                                    Surf City        Jan & Dean  2010   \n",
       "450  451                                      Dilemma             Nelly  2002   \n",
       "451  452                             It's Gonna Be Me            *NSYNC  2000   \n",
       "452  453                              In The Army Now        Status Quo  2002   \n",
       "\n",
       "     bpm  nrgy  dnce  dB  live  val  dur  acous  spch  pop           top genre  \n",
       "0    107    31    45  -8    13   28  150     75     3   44     adult standards  \n",
       "1    114    44    53  -8    13   47  139     49     3   37                 NaN  \n",
       "2    105    36    63  -9    13   67  245     11     3   77     adult standards  \n",
       "3    170    28    47 -16    13   33  232     25     3   67     adult standards  \n",
       "4    121    47    56  -8    15   40  193     45     3   63           glam rock  \n",
       "..   ...   ...   ...  ..   ...  ...  ...    ...   ...  ...                 ...  \n",
       "448   80    22    18 -17    10   16  214     92     4   45     adult standards  \n",
       "449  148    81    53 -13    23   96  147     50     3   50  brill building pop  \n",
       "450  168    55    73  -8    20   61  289     23    14   77           dance pop  \n",
       "451  165    87    64  -5     6   88  191      5     8   62            boy band  \n",
       "452  105    73    68  -8    14   94  281     11     2   59          album rock  \n",
       "\n",
       "[453 rows x 15 columns]"
      ]
     },
     "execution_count": 2,
     "metadata": {},
     "output_type": "execute_result"
    }
   ],
   "source": [
    "# Reading and storing the training dataset:\n",
    "train = pd.read_csv(\"CS98XClassificationTrain.csv\")\n",
    "train"
   ]
  },
  {
   "cell_type": "markdown",
   "id": "5ad54da3",
   "metadata": {},
   "source": [
    "# **Data Preprocessing:**\n",
    "### **Data Exploration**\n",
    "Before jumping staight to model-building, we first perform some data preprocessing to gain a deeper understanding of the data format, potential missing values and duplicates and other relations between data such as multicolinearity. This step will give our data integrity and will make our ML models have more accuracy and reliability. In this part, we will keep only the numerical columns as independent variables excluding the \"Id\" column, to keep our initial models simple (Columns \"title\" and \"artist\" will be removed)."
   ]
  },
  {
   "cell_type": "code",
   "execution_count": 3,
   "id": "36fde834",
   "metadata": {},
   "outputs": [],
   "source": [
    "train = train.drop(['Id','title','artist'],axis=1)"
   ]
  },
  {
   "cell_type": "markdown",
   "id": "94f7aa4e",
   "metadata": {},
   "source": [
    "Id is useless because is different for every row and serves solely as a row identificator. Furthermore, the columns title and\n",
    "artist will not yet get examined as we only want to implement some simple classification models which will serve as a baseline."
   ]
  },
  {
   "cell_type": "markdown",
   "id": "4fde1d1c",
   "metadata": {},
   "source": [
    "### **Checking for null values**"
   ]
  },
  {
   "cell_type": "code",
   "execution_count": 4,
   "id": "98d84150",
   "metadata": {},
   "outputs": [
    {
     "data": {
      "text/plain": [
       "top genre    15\n",
       "year          0\n",
       "bpm           0\n",
       "nrgy          0\n",
       "dnce          0\n",
       "dB            0\n",
       "live          0\n",
       "val           0\n",
       "dur           0\n",
       "acous         0\n",
       "spch          0\n",
       "pop           0\n",
       "dtype: int64"
      ]
     },
     "execution_count": 4,
     "metadata": {},
     "output_type": "execute_result"
    }
   ],
   "source": [
    "train.isna().sum().sort_values(ascending=False)"
   ]
  },
  {
   "cell_type": "markdown",
   "id": "d78b32e1",
   "metadata": {},
   "source": [
    "There are 15 null values on the dataset, which will be removed to offer more clean and credible data."
   ]
  },
  {
   "cell_type": "code",
   "execution_count": 5,
   "id": "4166f176",
   "metadata": {},
   "outputs": [],
   "source": [
    "train=train.dropna()"
   ]
  },
  {
   "cell_type": "code",
   "execution_count": 6,
   "id": "2e6b1051",
   "metadata": {},
   "outputs": [],
   "source": [
    "# We will also reset the index to know exactly how many rows the dataset is consisted of:\n",
    "train = train.reset_index()\n",
    "train = train.drop([\"index\"], axis = 1)"
   ]
  },
  {
   "cell_type": "markdown",
   "id": "87d4ed1d",
   "metadata": {},
   "source": [
    "### **Inspecting Data Format**"
   ]
  },
  {
   "cell_type": "code",
   "execution_count": 7,
   "id": "2b29deac",
   "metadata": {},
   "outputs": [
    {
     "name": "stdout",
     "output_type": "stream",
     "text": [
      "<class 'pandas.core.frame.DataFrame'>\n",
      "RangeIndex: 438 entries, 0 to 437\n",
      "Data columns (total 12 columns):\n",
      " #   Column     Non-Null Count  Dtype \n",
      "---  ------     --------------  ----- \n",
      " 0   year       438 non-null    int64 \n",
      " 1   bpm        438 non-null    int64 \n",
      " 2   nrgy       438 non-null    int64 \n",
      " 3   dnce       438 non-null    int64 \n",
      " 4   dB         438 non-null    int64 \n",
      " 5   live       438 non-null    int64 \n",
      " 6   val        438 non-null    int64 \n",
      " 7   dur        438 non-null    int64 \n",
      " 8   acous      438 non-null    int64 \n",
      " 9   spch       438 non-null    int64 \n",
      " 10  pop        438 non-null    int64 \n",
      " 11  top genre  438 non-null    object\n",
      "dtypes: int64(11), object(1)\n",
      "memory usage: 41.2+ KB\n"
     ]
    }
   ],
   "source": [
    "# Identification of the data format of each column might be useful. Failure to properly format data can lead to inaccuracies,\n",
    "# inefficiencies, and model performance degradation due to inconsistent or incompatible data structures.\n",
    "train.info()"
   ]
  },
  {
   "cell_type": "markdown",
   "id": "d3557ee9",
   "metadata": {},
   "source": [
    "The data format of each numerical column is \"int64\" type, with the exception of the \"top genre\" column which is consisted\n",
    "of categorical variables. Having data types like int64 can be beneficial for ensuring numerical precision and accommodating large integer values."
   ]
  },
  {
   "cell_type": "markdown",
   "id": "97604d76",
   "metadata": {},
   "source": [
    "### **Inspecting Data distribution of each variable**"
   ]
  },
  {
   "cell_type": "code",
   "execution_count": 8,
   "id": "d964b2fc",
   "metadata": {},
   "outputs": [
    {
     "data": {
      "text/html": [
       "<div>\n",
       "<style scoped>\n",
       "    .dataframe tbody tr th:only-of-type {\n",
       "        vertical-align: middle;\n",
       "    }\n",
       "\n",
       "    .dataframe tbody tr th {\n",
       "        vertical-align: top;\n",
       "    }\n",
       "\n",
       "    .dataframe thead th {\n",
       "        text-align: right;\n",
       "    }\n",
       "</style>\n",
       "<table border=\"1\" class=\"dataframe\">\n",
       "  <thead>\n",
       "    <tr style=\"text-align: right;\">\n",
       "      <th></th>\n",
       "      <th>year</th>\n",
       "      <th>bpm</th>\n",
       "      <th>nrgy</th>\n",
       "      <th>dnce</th>\n",
       "      <th>dB</th>\n",
       "      <th>live</th>\n",
       "      <th>val</th>\n",
       "      <th>dur</th>\n",
       "      <th>acous</th>\n",
       "      <th>spch</th>\n",
       "      <th>pop</th>\n",
       "    </tr>\n",
       "  </thead>\n",
       "  <tbody>\n",
       "    <tr>\n",
       "      <th>count</th>\n",
       "      <td>438.000000</td>\n",
       "      <td>438.000000</td>\n",
       "      <td>438.000000</td>\n",
       "      <td>438.000000</td>\n",
       "      <td>438.000000</td>\n",
       "      <td>438.000000</td>\n",
       "      <td>438.000000</td>\n",
       "      <td>438.000000</td>\n",
       "      <td>438.000000</td>\n",
       "      <td>438.000000</td>\n",
       "      <td>438.000000</td>\n",
       "    </tr>\n",
       "    <tr>\n",
       "      <th>mean</th>\n",
       "      <td>1990.881279</td>\n",
       "      <td>118.326484</td>\n",
       "      <td>60.504566</td>\n",
       "      <td>59.780822</td>\n",
       "      <td>-8.787671</td>\n",
       "      <td>17.605023</td>\n",
       "      <td>59.625571</td>\n",
       "      <td>228.267123</td>\n",
       "      <td>32.191781</td>\n",
       "      <td>5.671233</td>\n",
       "      <td>61.557078</td>\n",
       "    </tr>\n",
       "    <tr>\n",
       "      <th>std</th>\n",
       "      <td>16.697047</td>\n",
       "      <td>25.175735</td>\n",
       "      <td>22.089660</td>\n",
       "      <td>15.404757</td>\n",
       "      <td>3.591005</td>\n",
       "      <td>13.807492</td>\n",
       "      <td>24.480160</td>\n",
       "      <td>63.426812</td>\n",
       "      <td>29.279912</td>\n",
       "      <td>5.571392</td>\n",
       "      <td>12.759353</td>\n",
       "    </tr>\n",
       "    <tr>\n",
       "      <th>min</th>\n",
       "      <td>1948.000000</td>\n",
       "      <td>62.000000</td>\n",
       "      <td>7.000000</td>\n",
       "      <td>18.000000</td>\n",
       "      <td>-24.000000</td>\n",
       "      <td>2.000000</td>\n",
       "      <td>6.000000</td>\n",
       "      <td>98.000000</td>\n",
       "      <td>0.000000</td>\n",
       "      <td>2.000000</td>\n",
       "      <td>26.000000</td>\n",
       "    </tr>\n",
       "    <tr>\n",
       "      <th>25%</th>\n",
       "      <td>1976.000000</td>\n",
       "      <td>100.000000</td>\n",
       "      <td>44.000000</td>\n",
       "      <td>50.000000</td>\n",
       "      <td>-11.000000</td>\n",
       "      <td>9.000000</td>\n",
       "      <td>42.250000</td>\n",
       "      <td>184.500000</td>\n",
       "      <td>7.000000</td>\n",
       "      <td>3.000000</td>\n",
       "      <td>54.000000</td>\n",
       "    </tr>\n",
       "    <tr>\n",
       "      <th>50%</th>\n",
       "      <td>1993.000000</td>\n",
       "      <td>120.000000</td>\n",
       "      <td>64.000000</td>\n",
       "      <td>62.000000</td>\n",
       "      <td>-8.000000</td>\n",
       "      <td>13.000000</td>\n",
       "      <td>61.000000</td>\n",
       "      <td>224.000000</td>\n",
       "      <td>23.000000</td>\n",
       "      <td>4.000000</td>\n",
       "      <td>64.000000</td>\n",
       "    </tr>\n",
       "    <tr>\n",
       "      <th>75%</th>\n",
       "      <td>2006.000000</td>\n",
       "      <td>133.000000</td>\n",
       "      <td>78.000000</td>\n",
       "      <td>70.750000</td>\n",
       "      <td>-6.000000</td>\n",
       "      <td>23.000000</td>\n",
       "      <td>80.000000</td>\n",
       "      <td>264.000000</td>\n",
       "      <td>57.000000</td>\n",
       "      <td>6.000000</td>\n",
       "      <td>72.000000</td>\n",
       "    </tr>\n",
       "    <tr>\n",
       "      <th>max</th>\n",
       "      <td>2019.000000</td>\n",
       "      <td>199.000000</td>\n",
       "      <td>100.000000</td>\n",
       "      <td>96.000000</td>\n",
       "      <td>-1.000000</td>\n",
       "      <td>93.000000</td>\n",
       "      <td>99.000000</td>\n",
       "      <td>511.000000</td>\n",
       "      <td>99.000000</td>\n",
       "      <td>47.000000</td>\n",
       "      <td>84.000000</td>\n",
       "    </tr>\n",
       "  </tbody>\n",
       "</table>\n",
       "</div>"
      ],
      "text/plain": [
       "              year         bpm        nrgy        dnce          dB  \\\n",
       "count   438.000000  438.000000  438.000000  438.000000  438.000000   \n",
       "mean   1990.881279  118.326484   60.504566   59.780822   -8.787671   \n",
       "std      16.697047   25.175735   22.089660   15.404757    3.591005   \n",
       "min    1948.000000   62.000000    7.000000   18.000000  -24.000000   \n",
       "25%    1976.000000  100.000000   44.000000   50.000000  -11.000000   \n",
       "50%    1993.000000  120.000000   64.000000   62.000000   -8.000000   \n",
       "75%    2006.000000  133.000000   78.000000   70.750000   -6.000000   \n",
       "max    2019.000000  199.000000  100.000000   96.000000   -1.000000   \n",
       "\n",
       "             live         val         dur       acous        spch         pop  \n",
       "count  438.000000  438.000000  438.000000  438.000000  438.000000  438.000000  \n",
       "mean    17.605023   59.625571  228.267123   32.191781    5.671233   61.557078  \n",
       "std     13.807492   24.480160   63.426812   29.279912    5.571392   12.759353  \n",
       "min      2.000000    6.000000   98.000000    0.000000    2.000000   26.000000  \n",
       "25%      9.000000   42.250000  184.500000    7.000000    3.000000   54.000000  \n",
       "50%     13.000000   61.000000  224.000000   23.000000    4.000000   64.000000  \n",
       "75%     23.000000   80.000000  264.000000   57.000000    6.000000   72.000000  \n",
       "max     93.000000   99.000000  511.000000   99.000000   47.000000   84.000000  "
      ]
     },
     "execution_count": 8,
     "metadata": {},
     "output_type": "execute_result"
    }
   ],
   "source": [
    "# Now, we will use the describe() function to gain a deeper understanding of each numerical column of the dataset (Helpful in\n",
    "# gaining insight regarding the distribution of each variable):\n",
    "train.describe()"
   ]
  },
  {
   "cell_type": "markdown",
   "id": "19f205e5",
   "metadata": {},
   "source": [
    "After describing the data, it is obvious that some variables such as dB, live, dur, acous and spch do not follow a normal\n",
    "distribution and are skewed and may create bias if applied to a model. As a result we will scale the necessary columns to \n",
    "avoid such potential issues. To gain a better understanding about the skewed variables we will use visuals. The following subplots will provide a better idea of each column's distribution:"
   ]
  },
  {
   "cell_type": "code",
   "execution_count": null,
   "id": "392618e9",
   "metadata": {},
   "outputs": [],
   "source": [
    "fig,ax = plt.subplots(3,4,figsize=(20,10))\n",
    "\n",
    "sns.distplot(train['year'],ax=ax[0,0])\n",
    "sns.distplot(train['bpm'],ax=ax[0,1])\n",
    "sns.distplot(train['nrgy'],ax=ax[0,2])\n",
    "sns.distplot(train['dnce'],ax=ax[0,3])\n",
    "#sns.distplot(df['duration_min'],ax=ax[1,1])\n",
    "sns.distplot(train['dB'],ax=ax[1,0])\n",
    "sns.distplot(train['live'],ax=ax[1,1])\n",
    "sns.distplot(train['val'],ax=ax[1,2])\n",
    "sns.distplot(train['dur'],ax=ax[1,3])\n",
    "sns.distplot(train['acous'],ax=ax[2,0])\n",
    "sns.distplot(train['spch'],ax=ax[2,1])\n",
    "sns.distplot(train['pop'],ax=ax[2,2])\n",
    "\n",
    "plt.suptitle(\"Distribution of each independent variable\",fontsize = \"xx-large\")\n",
    "plt.show()"
   ]
  },
  {
   "cell_type": "markdown",
   "id": "f8fa6cc3",
   "metadata": {},
   "source": [
    "With these graphs it is easier to identify skewed variables such as dB, live, dur, acous and spch which do not follow a normal distribution."
   ]
  },
  {
   "cell_type": "markdown",
   "id": "eba7e7b7",
   "metadata": {},
   "source": [
    "### **Inspecting total unique classes**\n",
    "As mentioned in the beginning, this is a multiclass classification problem which will be able to classify songs to their respective genre. As such, it is important to know the number of our different classes/genres, especially if we were to built a Neurl Network because it determines the structure of the output layer in the neural network, the choice of loss function, and the evaluation metrics used to assess the model's performance (NOT COVERED IN THIS ANALYSIS)"
   ]
  },
  {
   "cell_type": "code",
   "execution_count": 14,
   "id": "db476a97",
   "metadata": {},
   "outputs": [
    {
     "data": {
      "image/png": "[encoded data removed]",
      "text/plain": [
       "<Figure size 1584x576 with 1 Axes>"
      ]
     },
     "metadata": {
      "needs_background": "light"
     },
     "output_type": "display_data"
    }
   ],
   "source": [
    "# So, the next bar - graph reveals how many different genres exist within the dataset:\n",
    "train[\"top genre\"].value_counts().plot.bar(color = \"maroon\",grid = True, figsize = (22,8))\n",
    "plt.xlabel(\"Type of Genre\",fontsize = \"xx-large\")\n",
    "plt.ylabel(\"Total number of songs\",fontsize = \"xx-large\")\n",
    "# Customizing ticks\n",
    "ax.tick_params(axis ='y', labelsize =\"xx-large\")\n",
    "# Inserting plot title\n",
    "plt.title(\"Total number of song of each Genre\",fontsize = \"xx-large\")\n",
    "plt.show()"
   ]
  },
  {
   "cell_type": "code",
   "execution_count": 15,
   "id": "d9b00ac9",
   "metadata": {},
   "outputs": [
    {
     "data": {
      "text/plain": [
       "adult standards       68\n",
       "album rock            66\n",
       "dance pop             61\n",
       "brill building pop    16\n",
       "glam rock             16\n",
       "                      ..\n",
       "bow pop                1\n",
       "australian rock        1\n",
       "boogaloo               1\n",
       "british comedy         1\n",
       "alternative rock       1\n",
       "Name: top genre, Length: 86, dtype: int64"
      ]
     },
     "execution_count": 15,
     "metadata": {},
     "output_type": "execute_result"
    }
   ],
   "source": [
    "train[\"top genre\"].value_counts()"
   ]
  },
  {
   "cell_type": "markdown",
   "id": "87a9d927",
   "metadata": {},
   "source": [
    "We see that there are 86 different genres which are too many to build an accurate classification model. An additional issue is\n",
    "that not every genre is consisted with the same number of songs. For example there are several genres which are consisted of only one or two songs. As a result, this class imblance will present difficulties for any model to train data and classify them to these genres."
   ]
  },
  {
   "cell_type": "markdown",
   "id": "dff8607c",
   "metadata": {},
   "source": [
    "### **Multicollinearity inspection**\n",
    "Another useful thing is to check the variables for potential multicollinearity between them. If multicollinearity exists between two variables, it is better to remove one of them. Otherwise the performance of the classification model will drop.\n",
    "Another way to deal with multicollinearity is to use PCA (Principal Component Analysis) which takes advantage of multicollinearity and combines the highly correlated variables into a set of uncorrelated variables."
   ]
  },
  {
   "cell_type": "code",
   "execution_count": 17,
   "id": "95de313c",
   "metadata": {},
   "outputs": [
    {
     "data": {
      "image/png": "[encoded data removed]",
      "text/plain": [
       "<Figure size 720x576 with 2 Axes>"
      ]
     },
     "metadata": {
      "needs_background": "light"
     },
     "output_type": "display_data"
    }
   ],
   "source": [
    "plt.figure(figsize=(10,8)) \n",
    "sns.heatmap(train.corr(), annot=True)\n",
    "plt.title(\"Correlation between independent variables\", fontsize = \"xx-large\")\n",
    "plt.show()"
   ]
  },
  {
   "cell_type": "markdown",
   "id": "211396d6",
   "metadata": {},
   "source": [
    "From the heatmap, it is clear that there are no signs of multicollinearity beween the variables. The variables \"nrgy\" and \"dB\" are slightly correlated, but we will not remove any of them in this part of analysis."
   ]
  },
  {
   "cell_type": "markdown",
   "id": "97b68681",
   "metadata": {},
   "source": [
    "### **Final Preprocessing Touches**\n",
    "After inspecting thoroughly our data, we can decide which steps should we take to enhance them further and make them more optimal to \"feed\" our ML model. Null values were dropped, data format is int64, variable distribution was checked, and multicollinearity between variables was inspected.\n",
    "\n",
    "The only \"concerning\" issue with our data, at this point at least, seems to be the few skewed variables we have. As such, our final preprocessing step will be to scale the most skewed variables of our dataset (\"acous\", \"spch\", \"live\")."
   ]
  },
  {
   "cell_type": "code",
   "execution_count": 18,
   "id": "b6aa4e8b",
   "metadata": {},
   "outputs": [],
   "source": [
    "scaler = StandardScaler()\n",
    "train[[\"acous\", \"spch\", \"live\"]] = scaler.fit_transform(train[[\"acous\", \"spch\", \"live\"]])"
   ]
  },
  {
   "cell_type": "markdown",
   "id": "fb0316a1",
   "metadata": {},
   "source": [
    "### **Model Building**\n",
    "After preprocessing, we proceed into model building. Model building is a simple and staightforward process, as seen below. Data is split between value and label sets respectively and further being split into training and testing sets to check accuracy on unknown data."
   ]
  },
  {
   "cell_type": "code",
   "execution_count": 19,
   "id": "950dc56e",
   "metadata": {},
   "outputs": [],
   "source": [
    "Y = train.loc[:, 'top genre']\n",
    "X = train.drop(['top genre'], axis=1)"
   ]
  },
  {
   "cell_type": "code",
   "execution_count": 20,
   "id": "6cd89c35",
   "metadata": {},
   "outputs": [],
   "source": [
    "X_train, X_test, Y_train, Y_test = train_test_split(X, Y, test_size=0.2, random_state=15)"
   ]
  },
  {
   "cell_type": "markdown",
   "id": "47339eb7",
   "metadata": {},
   "source": [
    "After train/test spliting, we will try several classifiers to compare accuracy. These classifiers are in their simplest form and will give ua a general idea of what works better than the rest, providing us useful direction for future analysis."
   ]
  },
  {
   "cell_type": "code",
   "execution_count": 24,
   "id": "2dd6b733",
   "metadata": {},
   "outputs": [],
   "source": [
    "tree_clf = DecisionTreeClassifier()\n",
    "log_clf = LogisticRegression()\n",
    "ovr_clf = OneVsRestClassifier(log_clf)\n",
    "ovr2_clf = OneVsRestClassifier(SVC())\n",
    "rnd_clf = RandomForestClassifier()\n",
    "kn_clf = KNeighborsClassifier()\n",
    "svm_clf = SVC(kernel='poly', degree=2, C=1)\n",
    "mlp_clf = MLPClassifier()"
   ]
  },
  {
   "cell_type": "code",
   "execution_count": 25,
   "id": "e5431ceb",
   "metadata": {},
   "outputs": [
    {
     "name": "stdout",
     "output_type": "stream",
     "text": [
      "LogisticRegression 0.19318181818181818\n",
      "RandomForestClassifier 0.3068181818181818\n",
      "SVC 0.11363636363636363\n",
      "KNeighborsClassifier 0.20454545454545456\n",
      "MLPClassifier 0.2727272727272727\n",
      "DecisionTreeClassifier 0.10227272727272728\n",
      "OneVsRestClassifier 0.2159090909090909\n",
      "OneVsRestClassifier 0.045454545454545456\n"
     ]
    }
   ],
   "source": [
    "for clf in (log_clf, rnd_clf, svm_clf, kn_clf, mlp_clf, tree_clf, ovr_clf, ovr2_clf):\n",
    "    clf.fit(X_train, Y_train)\n",
    "    ypred = clf.predict(X_test)\n",
    "    print(clf.__class__.__name__, accuracy_score(Y_test, ypred))"
   ]
  },
  {
   "cell_type": "markdown",
   "id": "a3e1dcbc",
   "metadata": {},
   "source": [
    "The models do not produce good accuracies. Higher performance offers the Random Forest model with approximately 0.3 accuracy. Albeit low, such low accuracy is to be expected, if we take into account the plethora of different classes as well as the imbalance between classes. In an effort to increase the model's performance we will use ensemble methods and hyperparameter tuning."
   ]
  },
  {
   "cell_type": "markdown",
   "id": "a72a1484",
   "metadata": {},
   "source": [
    "## **Hyperparameter Tuning**\n",
    "For Hyperparameter tuning we will the GridSearch technique. GridSearch guarantees finding the optimal combination of hyperparameters for a model, provided the data set is not excessively large. Being computationally expensive, a fine alternative can be RandomSearch which allows for a broader search in the hyperparameter space, potentially discovering better-performing combinations that may have been missed in a grid search.\n",
    "\n",
    "#### **A) Hyperparameter tuning on a Naive Bayes model:**"
   ]
  },
  {
   "cell_type": "code",
   "execution_count": 26,
   "id": "df32784e",
   "metadata": {},
   "outputs": [
    {
     "name": "stdout",
     "output_type": "stream",
     "text": [
      "Fitting 40 folds for each of 100 candidates, totalling 4000 fits\n",
      "GaussianNB(var_smoothing=0.12328467394420659)\n"
     ]
    }
   ],
   "source": [
    "param_grid_nb = {'var_smoothing': np.logspace(0,-9, num=100)}\n",
    "nbModel_grid = GridSearchCV(estimator=GaussianNB(), param_grid=param_grid_nb, verbose=1, cv=40, n_jobs=-1)\n",
    "nbModel_grid.fit(X_train, Y_train)\n",
    "print(nbModel_grid.best_estimator_)"
   ]
  },
  {
   "cell_type": "code",
   "execution_count": 27,
   "id": "0f5ae351",
   "metadata": {},
   "outputs": [],
   "source": [
    "nb_mod_clf = nbModel_grid.best_estimator_"
   ]
  },
  {
   "cell_type": "markdown",
   "id": "508d41a2",
   "metadata": {},
   "source": [
    "#### **B) Hyperparameter tuning on a KNeigbours model:**"
   ]
  },
  {
   "cell_type": "code",
   "execution_count": 28,
   "id": "76824bde",
   "metadata": {},
   "outputs": [],
   "source": [
    "metrics = ['euclidean','manhattan'] \n",
    "neighbors = np.arange(1, 16)\n",
    "param_grid  = dict(metric=metrics, n_neighbors=neighbors)"
   ]
  },
  {
   "cell_type": "code",
   "execution_count": 29,
   "id": "3cc3642d",
   "metadata": {},
   "outputs": [
    {
     "name": "stdout",
     "output_type": "stream",
     "text": [
      "KNeighborsClassifier(metric='manhattan', n_neighbors=14)\n"
     ]
    }
   ],
   "source": [
    "cross_validation_fold = 40\n",
    "grid_search_KN = GridSearchCV(kn_clf, param_grid, cv=cross_validation_fold, scoring='accuracy', refit=True)\n",
    "grid_search_KN.fit(X_train, Y_train)\n",
    "print(grid_search_KN.best_estimator_)"
   ]
  },
  {
   "cell_type": "code",
   "execution_count": 30,
   "id": "eaa0692e",
   "metadata": {},
   "outputs": [],
   "source": [
    "KN_mod_clf = grid_search_KN.best_estimator_"
   ]
  },
  {
   "cell_type": "markdown",
   "id": "3752c667",
   "metadata": {},
   "source": [
    "#### **C) Hyperparameter tuning on a Random Forest model:**"
   ]
  },
  {
   "cell_type": "code",
   "execution_count": 31,
   "id": "c60a12f2",
   "metadata": {},
   "outputs": [],
   "source": [
    "param_grid = {\n",
    "    'n_estimators': [25, 50, 100, 150],\n",
    "    'max_features': ['sqrt', 'log2', None],\n",
    "    'max_depth': [3, 6, 9],\n",
    "    'max_leaf_nodes': [3, 6, 9],\n",
    "}"
   ]
  },
  {
   "cell_type": "code",
   "execution_count": 32,
   "id": "12b5ea61",
   "metadata": {},
   "outputs": [
    {
     "name": "stdout",
     "output_type": "stream",
     "text": [
      "RandomForestClassifier(max_depth=3, max_features='sqrt', max_leaf_nodes=9,\n",
      "                       n_estimators=150)\n"
     ]
    }
   ],
   "source": [
    "grid_search_rf = GridSearchCV(RandomForestClassifier(), param_grid=param_grid)\n",
    "grid_search_rf.fit(X_train, Y_train)\n",
    "print(grid_search_rf.best_estimator_)"
   ]
  },
  {
   "cell_type": "code",
   "execution_count": 33,
   "id": "05d197a8",
   "metadata": {},
   "outputs": [],
   "source": [
    "rf_mod_clf = RandomForestClassifier(max_depth=3,\n",
    "                                    max_features=\"sqrt\",\n",
    "                                    max_leaf_nodes=9,\n",
    "                                    n_estimators=150)"
   ]
  },
  {
   "cell_type": "markdown",
   "id": "df63ed75",
   "metadata": {},
   "source": [
    "### **Comparing accuracies between these 3 new models after tuning was performed:**"
   ]
  },
  {
   "cell_type": "code",
   "execution_count": 34,
   "id": "013a547d",
   "metadata": {},
   "outputs": [
    {
     "name": "stdout",
     "output_type": "stream",
     "text": [
      "GaussianNB 0.29545454545454547\n",
      "KNeighborsClassifier 0.3068181818181818\n",
      "RandomForestClassifier 0.3522727272727273\n"
     ]
    }
   ],
   "source": [
    "for clf in (nb_mod_clf, KN_mod_clf, rf_mod_clf):\n",
    "    clf.fit(X_train, Y_train)\n",
    "    ypred = clf.predict(X_test)\n",
    "    print(clf.__class__.__name__, accuracy_score(Y_test, ypred))"
   ]
  },
  {
   "cell_type": "markdown",
   "id": "4b84f477",
   "metadata": {},
   "source": [
    "Tuning turned out to slightly enhance model performance. More specifically, the KN model had a 10% increase and the Random Forest model a 5% increase respectively. Random Forest model still outperforms the other models. As a matter of fact, hyperparameter tuning built a classification model with a 35% accuracy, making it our optimal model so far."
   ]
  },
  {
   "cell_type": "markdown",
   "id": "06ee422a",
   "metadata": {},
   "source": [
    "## **Ensemble methods**\n",
    "For Ensemble methods we will begin by combining some of out existing models to check flactuations in accuracy. Afterwards, we will employ popular ensemble methods that are commonly used in practice for multiclass classification such as \"Gradient Boosting\", \"AdaBoost\" and \"Bagging\" and even perform hyperparameter tuning on them:\n",
    "\n",
    "#### **A) Random Mixing:**"
   ]
  },
  {
   "cell_type": "code",
   "execution_count": 35,
   "id": "3731f19f",
   "metadata": {},
   "outputs": [],
   "source": [
    "voting_clf = VotingClassifier(estimators=[('kn', kn_clf),('rf', rnd_clf),('lr', log_clf)], voting='soft')\n",
    "voting2_clf = VotingClassifier(estimators=[('rf',rnd_clf),('nb',nb_mod_clf),('lr', log_clf)], voting='soft')\n",
    "voting3_clf = VotingClassifier(estimators=[('sv',svm_clf),('kN',KN_mod_clf),('nB',nb_mod_clf),('lr', log_clf)], voting='hard')\n",
    "voting4_clf = VotingClassifier(estimators=[('rfm', rf_mod_clf),('kN',KN_mod_clf)], voting='hard')"
   ]
  },
  {
   "cell_type": "code",
   "execution_count": 36,
   "id": "2d9b7929",
   "metadata": {},
   "outputs": [
    {
     "name": "stdout",
     "output_type": "stream",
     "text": [
      "VotingClassifier 0.2727272727272727\n",
      "VotingClassifier 0.2840909090909091\n",
      "VotingClassifier 0.23863636363636365\n",
      "VotingClassifier 0.3181818181818182\n"
     ]
    }
   ],
   "source": [
    "for clf in (voting_clf, voting2_clf, voting3_clf, voting4_clf):\n",
    "    clf.fit(X_train, Y_train)\n",
    "    ypred = clf.predict(X_test)\n",
    "    print(clf.__class__.__name__, accuracy_score(Y_test, ypred))"
   ]
  },
  {
   "cell_type": "markdown",
   "id": "b6818de8",
   "metadata": {},
   "source": [
    "While most of our performances are higher that the baseline, results are worse than those of hyperparameter tuning. The best performance comes from the last ensemble model which is consisted of a Random Forest and a KNeighbour model, after performing the hyperparameter tuning."
   ]
  },
  {
   "cell_type": "markdown",
   "id": "179b6856",
   "metadata": {},
   "source": [
    "#### **B) \"Gradient Boosting\", \"AdaBoost\" and \"Bagging\" methods:**"
   ]
  },
  {
   "cell_type": "code",
   "execution_count": 39,
   "id": "0a77d686",
   "metadata": {},
   "outputs": [
    {
     "name": "stdout",
     "output_type": "stream",
     "text": [
      "Best hyperparameters for AdaBoost: {'learning_rate': 0.01, 'n_estimators': 50}\n",
      "Best hyperparameters for Bagging: {'max_features': 1.0, 'max_samples': 0.7, 'n_estimators': 200}\n",
      "Best hyperparameters for Gradient Boosting: {'learning_rate': 0.01, 'max_depth': 3, 'n_estimators': 100}\n"
     ]
    }
   ],
   "source": [
    "from sklearn.ensemble import GradientBoostingClassifier, AdaBoostClassifier, BaggingClassifier\n",
    "# Defining classifiers\n",
    "grad_boost_clf = GradientBoostingClassifier()\n",
    "ada_boost_clf = AdaBoostClassifier()\n",
    "bagging_clf = BaggingClassifier()\n",
    "# Define hyperparameter grids for each base classifier\n",
    "ada_param_grid = {'n_estimators': [50, 100, 200],\n",
    "                  'learning_rate': [0.01, 0.1, 1.0]}\n",
    "\n",
    "bagging_param_grid = {'n_estimators': [50, 100, 200],\n",
    "                      'max_samples': [0.5, 0.7, 1.0],\n",
    "                      'max_features': [0.5, 0.7, 1.0]}\n",
    "\n",
    "gb_param_grid = {'n_estimators': [50, 100, 200],\n",
    "                 'learning_rate': [0.01, 0.1, 1.0],\n",
    "                 'max_depth': [3, 5, 7]}\n",
    "\n",
    "# Initialize GridSearchCV for each base classifier\n",
    "ada_grid_search = GridSearchCV(ada_boost_clf, ada_param_grid, cv=3)\n",
    "bagging_grid_search = GridSearchCV(bagging_clf, bagging_param_grid, cv=3)\n",
    "gb_grid_search = GridSearchCV(grad_boost_clf, gb_param_grid, cv=3)\n",
    "\n",
    "# Fit GridSearchCV on training data\n",
    "ada_grid_search.fit(X_train, Y_train)\n",
    "bagging_grid_search.fit(X_train, Y_train)\n",
    "gb_grid_search.fit(X_train, Y_train)\n",
    "\n",
    "# Get best hyperparameters for each base classifier\n",
    "print(\"Best hyperparameters for AdaBoost:\", ada_grid_search.best_params_)\n",
    "print(\"Best hyperparameters for Bagging:\", bagging_grid_search.best_params_)\n",
    "print(\"Best hyperparameters for Gradient Boosting:\", gb_grid_search.best_params_)\n",
    "\n",
    "# Use best estimators from GridSearchCV \n",
    "ada_best_clf = ada_grid_search.best_estimator_\n",
    "bagging_best_clf = bagging_grid_search.best_estimator_\n",
    "gb_best_clf = gb_grid_search.best_estimator_"
   ]
  },
  {
   "cell_type": "code",
   "execution_count": 40,
   "id": "d161f4c5",
   "metadata": {},
   "outputs": [
    {
     "name": "stdout",
     "output_type": "stream",
     "text": [
      "AdaBoostClassifier 0.32954545454545453\n",
      "BaggingClassifier 0.3409090909090909\n",
      "GradientBoostingClassifier 0.25\n"
     ]
    }
   ],
   "source": [
    "for clf in (ada_best_clf, bagging_best_clf, gb_best_clf):\n",
    "    clf.fit(X_train, Y_train)\n",
    "    ypred = clf.predict(X_test)\n",
    "    print(clf.__class__.__name__, accuracy_score(Y_test, ypred))"
   ]
  },
  {
   "cell_type": "markdown",
   "id": "6ca9bf68",
   "metadata": {},
   "source": [
    "While the Gradient Boosting Classifier produces poor results, Ada Boosting and Bugging classifiers outperform most of our previous models with accuracies of 0.33 and 0.34 respectively."
   ]
  },
  {
   "cell_type": "markdown",
   "id": "351b41c0",
   "metadata": {},
   "source": [
    "#### **C) Ensemble of \"Gradient Boosting\", \"AdaBoost\" and \"Bagging\" methods:**\n",
    "As a last resort, an attempt of mixing these new models will be made to observe any potential rise in accuracy:"
   ]
  },
  {
   "cell_type": "code",
   "execution_count": 41,
   "id": "1127b073",
   "metadata": {},
   "outputs": [],
   "source": [
    "voting5_clf = VotingClassifier(estimators=[('ada_boost',ada_best_clf),('bagging',bagging_best_clf)], voting='hard')\n",
    "voting6_clf = VotingClassifier(estimators=[('ada_boost',ada_best_clf),('grad_boost',gb_best_clf)], voting='hard')\n",
    "voting7_clf = VotingClassifier(estimators=[('bagging',bagging_best_clf),('grad_boost',gb_best_clf)], voting='hard')\n",
    "voting8_clf = VotingClassifier(estimators=[('ada_boost',ada_best_clf),('bagging',bagging_best_clf),('grad_boost',gb_best_clf)], voting='hard')"
   ]
  },
  {
   "cell_type": "code",
   "execution_count": 42,
   "id": "0503a233",
   "metadata": {},
   "outputs": [
    {
     "name": "stdout",
     "output_type": "stream",
     "text": [
      "VotingClassifier 0.3522727272727273\n",
      "VotingClassifier 0.32954545454545453\n",
      "VotingClassifier 0.3068181818181818\n",
      "VotingClassifier 0.3181818181818182\n"
     ]
    }
   ],
   "source": [
    "for clf in (voting5_clf, voting6_clf, voting7_clf, voting8_clf):\n",
    "    clf.fit(X_train, Y_train)\n",
    "    ypred = clf.predict(X_test)\n",
    "    print(clf.__class__.__name__, accuracy_score(Y_test, ypred))"
   ]
  },
  {
   "cell_type": "markdown",
   "id": "d19867bf",
   "metadata": {},
   "source": [
    "All these ensemble models produce high performance compared to previous models, with the highest performance coming form the 5th ensemble model which is consisted of an Ada Boost and a Bagging classifier."
   ]
  },
  {
   "cell_type": "markdown",
   "id": "111af536",
   "metadata": {},
   "source": [
    "## **Optimal Model Selection**\n",
    "After building a plethora of different models, optimal performance comes from:\n",
    "##### **Random Forest Classifier after Hyperparameter Tuning: 0.3522727272727273 accuracy**\n",
    "##### **Bagging Classifier after Hyperparameter Tuning            : 0.3409090909090909 accuracy**\n",
    "##### **Ensemble of AdaBoost + Bagging Classifier                   : 0.3522727272727273 accuracy**\n",
    "(Accuracy values may vary among different runs of code due to random state variance)*"
   ]
  },
  {
   "cell_type": "markdown",
   "id": "8994eaa0",
   "metadata": {},
   "source": [
    "## **Optimal Model Predictions**\n",
    "Storing predictions of our 3 models into variables to make comparisons:"
   ]
  },
  {
   "cell_type": "code",
   "execution_count": 43,
   "id": "864f4bd1",
   "metadata": {},
   "outputs": [],
   "source": [
    "ypred1 = rf_mod_clf.predict(X_test)\n",
    "ypred2 = bagging_best_clf.predict(X_test)\n",
    "ypred3 = voting5_clf.predict(X_test)"
   ]
  },
  {
   "cell_type": "markdown",
   "id": "70690e38",
   "metadata": {},
   "source": [
    "## **Testing the model on the test data**\n",
    "Following the same process as to when we imported our training set"
   ]
  },
  {
   "cell_type": "code",
   "execution_count": 44,
   "id": "1a50421f",
   "metadata": {},
   "outputs": [],
   "source": [
    "test = pd.read_csv(\"CS98XClassificationTest.csv\")"
   ]
  },
  {
   "cell_type": "code",
   "execution_count": 45,
   "id": "001f473f",
   "metadata": {},
   "outputs": [],
   "source": [
    "Id_number = test.loc[:, 'Id']"
   ]
  },
  {
   "cell_type": "code",
   "execution_count": 46,
   "id": "a168d525",
   "metadata": {},
   "outputs": [],
   "source": [
    "test = test.drop(['Id','title','artist'],axis=1)"
   ]
  },
  {
   "cell_type": "code",
   "execution_count": 47,
   "id": "75c4a960",
   "metadata": {},
   "outputs": [],
   "source": [
    "test[[\"acous\", \"spch\", \"live\"]] = scaler.fit_transform(test[[\"acous\", \"spch\", \"live\"]])"
   ]
  },
  {
   "cell_type": "markdown",
   "id": "0410289e",
   "metadata": {},
   "source": [
    "After importing the testing set, it is vital to perform the exact Data - preprocessing to match the data format of the training set. Otherwise, our model will receive a decrease in accuracy (For example, a model trained on scaled data will be unable to classify unscaled data accurately)."
   ]
  },
  {
   "cell_type": "code",
   "execution_count": 48,
   "id": "a2f7c556",
   "metadata": {},
   "outputs": [],
   "source": [
    "final_predictions1 = rf_mod_clf.predict(test)\n",
    "final_predictions2 = bagging_best_clf.predict(test)\n",
    "final_predictions3 = voting5_clf.predict(test)"
   ]
  },
  {
   "cell_type": "markdown",
   "id": "5f208a8e",
   "metadata": {},
   "source": [
    "Importing the predicted values to a \".csv\" file. This step, of creating a .csv file, is not related with the classification project, and is only essential due to the Kaggle competition as a submission file."
   ]
  },
  {
   "cell_type": "code",
   "execution_count": null,
   "id": "47b3cd2e",
   "metadata": {},
   "outputs": [],
   "source": [
    "CSV = pd.DataFrame({\n",
    "    \"Id\": Id_number,\n",
    "    \"top genre\": rf_mod_clf.predict(test)\n",
    "})\n",
    "CSV.to_csv(\"classification.csv\", index=False)"
   ]
  },
  {
   "cell_type": "markdown",
   "id": "ccadfdc8",
   "metadata": {},
   "source": [
    "## **Model Prediction on Test set**\n",
    "Finally, we use our Multiclass Classification model to predict the song genres of new data and check our models' accuracy (Normally, this set is unavailable in real life scenarios. In the context of this Kaggle competition, in order to check a model's accuracy on the test set, we had to submit the above .csv file on the submission page of the Kaggle competition. However, due to the fact that the competition has expired and sumbitting new .csv files is unavailable at the moment, we will use the 'CS98XRegressionTest.csv' file as a substitute of that process)."
   ]
  },
  {
   "cell_type": "code",
   "execution_count": 49,
   "id": "cf8be1ab",
   "metadata": {},
   "outputs": [],
   "source": [
    "test2 = pd.read_csv('CS98XRegressionTest.csv')"
   ]
  },
  {
   "cell_type": "code",
   "execution_count": 50,
   "id": "fe4d2d94",
   "metadata": {},
   "outputs": [],
   "source": [
    "test2 = test2.dropna()\n",
    "validation_test = test2[\"top genre\"]"
   ]
  },
  {
   "cell_type": "code",
   "execution_count": 52,
   "id": "3ac1b09f",
   "metadata": {},
   "outputs": [
    {
     "name": "stdout",
     "output_type": "stream",
     "text": [
      "The number of correct classifications of the Random Forest model is: 35 out of 113\n",
      "The number of correct classifications of the Bagging model is: 37 out of 113\n",
      "The number of correct classifications of the Ensemble model is: 38 out of 113\n"
     ]
    }
   ],
   "source": [
    "n = 0\n",
    "m = 0\n",
    "l = 0\n",
    "for i in range(0,113,1):\n",
    "    if list(final_predictions1)[i] == list(validation_test)[i]:\n",
    "        n = n + 1\n",
    "\n",
    "for i in range(0,113,1):\n",
    "    if list(final_predictions2)[i] == list(validation_test)[i]:\n",
    "        m = m + 1\n",
    "        \n",
    "for i in range(0,113,1):\n",
    "    if list(final_predictions3)[i] == list(validation_test)[i]:\n",
    "        l = l + 1\n",
    "\n",
    "print(\"The number of correct classifications of the Random Forest model is:\", n, \"out of 113\")\n",
    "print(\"The number of correct classifications of the Bagging model is:\", m, \"out of 113\")\n",
    "print(\"The number of correct classifications of the Ensemble model is:\", l, \"out of 113\")"
   ]
  },
  {
   "cell_type": "code",
   "execution_count": 54,
   "id": "c4e8029d",
   "metadata": {},
   "outputs": [
    {
     "name": "stdout",
     "output_type": "stream",
     "text": [
      "Accuracy of the Random Forest model is: 0.30973451327433627\n",
      "Accuracy of the Bugging model is: 0.3274336283185841\n",
      "Accuracy of the Ensemble model is: 0.336283185840708\n"
     ]
    }
   ],
   "source": [
    "accuracy1 = accuracy_score(validation_test, final_predictions1)\n",
    "accuracy2 = accuracy_score(validation_test, final_predictions2)\n",
    "accuracy3 = accuracy_score(validation_test, final_predictions3)\n",
    "\n",
    "print(\"Accuracy of the Random Forest model is:\", accuracy1)\n",
    "print(\"Accuracy of the Bugging model is:\", accuracy2)\n",
    "print(\"Accuracy of the Ensemble model is:\", accuracy3)"
   ]
  },
  {
   "cell_type": "markdown",
   "id": "6309e8bb",
   "metadata": {},
   "source": [
    "The Bugging and Ensemble classifiers produce the optimal results. The Random Forest classifier produce an approximately 5% lower accuracy on the testing set comparing to the training set, which is an indicator of overfitting. There is an overfit at the Bugging and Ensemble classifiers as well, but only slightly with only 1.5% difference. Since the Ensemble of the Ada Boost + Bugging classifiers produce the highest accuracy on the testing set, it will be our designated model."
   ]
  },
  {
   "cell_type": "markdown",
   "id": "d431985c",
   "metadata": {},
   "source": [
    "A useful step is to check the Confusion matrix, in order to identify which classes were predicted accurately by our model and in which classes were the most misclassifications occured."
   ]
  },
  {
   "cell_type": "code",
   "execution_count": 56,
   "id": "6058447f",
   "metadata": {},
   "outputs": [
    {
     "data": {
      "image/png": "[encoded data removed]",
      "text/plain": [
       "<Figure size 1080x864 with 1 Axes>"
      ]
     },
     "metadata": {
      "needs_background": "light"
     },
     "output_type": "display_data"
    }
   ],
   "source": [
    "from sklearn.metrics import confusion_matrix\n",
    "cm = confusion_matrix(validation_test, final_predictions3)\n",
    "# Plotting the confusion matrix using seaborn heatmap\n",
    "plt.figure(figsize=(15, 12))\n",
    "sns.heatmap(cm, annot=True, cmap='Blues', fmt='g', cbar=False)\n",
    "plt.xlabel('Predicted')\n",
    "plt.ylabel('True')\n",
    "plt.title('Confusion Matrix')\n",
    "plt.show()"
   ]
  },
  {
   "cell_type": "code",
   "execution_count": 57,
   "id": "1766ab6b",
   "metadata": {},
   "outputs": [
    {
     "name": "stdout",
     "output_type": "stream",
     "text": [
      "Class 0: 23 misclassifications\n",
      "Class 1: 23 misclassifications\n",
      "Class 3: 1 misclassifications\n",
      "Class 11: 1 misclassifications\n",
      "Class 15: 3 misclassifications\n",
      "Class 20: 24 misclassifications\n"
     ]
    }
   ],
   "source": [
    "# Get the number of classes\n",
    "num_classes = len(cm)\n",
    "\n",
    "# Initialize a list to store misclassifications for each class\n",
    "misclassifications_per_class = []\n",
    "\n",
    "# Calculate misclassifications for each class\n",
    "for i in range(num_classes):\n",
    "    # Sum false positives (FP) and false negatives (FN) for class i\n",
    "    misclassifications = cm[:, i].sum() - cm[i, i]\n",
    "    misclassifications_per_class.append(misclassifications)\n",
    "\n",
    "# Print misclassifications for each class with misclassifications\n",
    "for i, misclassifications in enumerate(misclassifications_per_class):\n",
    "    if misclassifications > 0:\n",
    "        print(f\"Class {i}: {misclassifications} misclassifications\")"
   ]
  },
  {
   "cell_type": "code",
   "execution_count": 58,
   "id": "11d64c82",
   "metadata": {},
   "outputs": [
    {
     "data": {
      "text/plain": [
       "array(['dance pop', 'glam rock', 'big beat', 'appalachian folk',\n",
       "       'adult standards', 'mellow gold', 'album rock',\n",
       "       'brill building pop', 'barbadian pop', 'british invasion',\n",
       "       'bubblegum dance', 'hollywood', 'cowboy western', 'hip hop',\n",
       "       'g funk', 'eurodance', 'native american', 'alternative country',\n",
       "       'east coast hip hop', 'art rock', 'blues rock', 'dance rock',\n",
       "       'classic country pop', 'beach music', 'neo mellow', 'disco',\n",
       "       'europop', 'classic rock', 'bronx hip hop', 'alternative metal',\n",
       "       'big room', 'modern rock', 'dirty south rap', 'canadian pop',\n",
       "       'boy band', 'deep adult standards', 'diva house', 'jazz fusion',\n",
       "       'glam metal'], dtype=object)"
      ]
     },
     "execution_count": 58,
     "metadata": {},
     "output_type": "execute_result"
    }
   ],
   "source": [
    "validation_test.unique()"
   ]
  },
  {
   "cell_type": "markdown",
   "id": "e68940eb",
   "metadata": {},
   "source": [
    "We identify that the classes of \"dance pop\", \"glam rock\" and \"art rock\" are often misclassified by our model. To tackle that feature engineering may be useful, as well as ploting the missclassified genres together to identify any potential causes of the problem. Finally, removing outliers may be beneficial as long as there are not many of them (The dataset is already small and Machine Learning models have higher performance the more data)."
   ]
  },
  {
   "cell_type": "code",
   "execution_count": null,
   "id": "8a553331",
   "metadata": {},
   "outputs": [],
   "source": []
  }
 ],
 "metadata": {
  "kernelspec": {
   "display_name": "Python 3 (ipykernel)",
   "language": "python",
   "name": "python3"
  },
  "language_info": {
   "codemirror_mode": {
    "name": "ipython",
    "version": 3
   },
   "file_extension": ".py",
   "mimetype": "text/x-python",
   "name": "python",
   "nbconvert_exporter": "python",
   "pygments_lexer": "ipython3",
   "version": "3.9.12"
  }
 },
 "nbformat": 4,
 "nbformat_minor": 5
}
